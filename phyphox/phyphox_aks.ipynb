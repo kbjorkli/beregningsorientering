{
 "cells": [
  {
   "cell_type": "code",
   "execution_count": 4,
   "id": "0091e9ab",
   "metadata": {},
   "outputs": [
    {
     "data": {
      "image/png": "[encoded data removed]",
      "text/plain": [
       "<Figure size 432x288 with 1 Axes>"
      ]
     },
     "metadata": {
      "needs_background": "light"
     },
     "output_type": "display_data"
    }
   ],
   "source": [
    "import numpy as np\n",
    "import scipy\n",
    "import matplotlib.pyplot as plt\n",
    "from scipy import signal\n",
    "\n",
    "#Laste inn fil i CSV-format til n-dimensjonalt NumPy-array\n",
    "#Eksempel: laste inn CSV-fil med akselerometer-verdier fra Phyphox med 4 kolonner for t, a_x, a_y, a_z\n",
    "fil=np.loadtxt('data_del1.csv',delimiter=',',skiprows=1)\n",
    "t=fil[:,0]\n",
    "a_z=fil[:,3]\n",
    "a_y=fil[:,2]\n",
    "a_x=fil[:,1]\n",
    "\n",
    "#Glatting av funksjoner med Savgol-filter i scipy-bibliotek\n",
    "#Syntaks: filtrerte_data=signal.savgol_filter(raadata,window_length,polyorder)\n",
    "#Større \"window_length\" gir glattere kurve\n",
    "a_z_filt=signal.savgol_filter(a_z,103,3) #z-akse: vertikalretning\n",
    "a_y_filt=signal.savgol_filter(a_y,53,3) #y-akse: \n",
    "a_x_filt=signal.savgol_filter(a_x,53,3) #x-akse: \n",
    "\n",
    "#Eulers metode for å lage v(t) og s(t) basert på akselerasjonsverdier\n",
    "#v_(n+1)=v_n + a*dt\n",
    "#s_(n+1)=s_n+0.5*(v_(n+1)+v_n)*dt\n",
    "\n",
    "n=len(t) #Lengde på array\n",
    "\n",
    "#Initierer tomme arrays\n",
    "v=np.zeros(n)\n",
    "s=np.zeros(n)\n",
    "\n",
    "#Eulers metode for å finne v(t)\n",
    "for i in range(0,n-1):\n",
    "           v[i+1]=v[i]+a_z_filt[i]*(t[i+1]-t[i])\n",
    "\n",
    "#Eulers metode for å finne z(t)\n",
    "for i in range(0,n-1):\n",
    "           s[i+1]=s[i]+0.5*(v[i+1]+v[i])*(t[i+1]-t[i])\n",
    "\n",
    "#Genererer grafer for a(t), v(t), s(t)\n",
    "#plott2=plt.plot(t,a_z_filt) #a(t)\n",
    "#plott1=plt.plot(t,v) #v(t)\n",
    "plott3=plt.plot(t,s) #s(t)\n"
   ]
  },
  {
   "cell_type": "code",
   "execution_count": 24,
   "id": "48bc43e9",
   "metadata": {},
   "outputs": [
    {
     "data": {
      "text/plain": [
       "1.0295376302811041"
      ]
     },
     "execution_count": 24,
     "metadata": {},
     "output_type": "execute_result"
    }
   ],
   "source": [
    "scipy.integrate.simps(z_filt, t, even='avg')"
   ]
  },
  {
   "cell_type": "code",
   "execution_count": null,
   "id": "60ec3aee",
   "metadata": {},
   "outputs": [],
   "source": []
  }
 ],
 "metadata": {
  "kernelspec": {
   "display_name": "Python 3",
   "language": "python",
   "name": "python3"
  },
  "language_info": {
   "codemirror_mode": {
    "name": "ipython",
    "version": 3
   },
   "file_extension": ".py",
   "mimetype": "text/x-python",
   "name": "python",
   "nbconvert_exporter": "python",
   "pygments_lexer": "ipython3",
   "version": "3.8.5"
  }
 },
 "nbformat": 4,
 "nbformat_minor": 5
}
