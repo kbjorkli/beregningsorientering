{
 "cells": [
  {
   "cell_type": "code",
   "execution_count": 1,
   "id": "0091e9ab",
   "metadata": {},
   "outputs": [
    {
     "data": {
      "text/plain": [
       "<matplotlib.legend.Legend at 0x194cb30d940>"
      ]
     },
     "execution_count": 1,
     "metadata": {},
     "output_type": "execute_result"
    },
    {
     "data": {
      "image/png": "[encoded data removed]",
      "text/plain": [
       "<Figure size 432x288 with 1 Axes>"
      ]
     },
     "metadata": {
      "needs_background": "light"
     },
     "output_type": "display_data"
    }
   ],
   "source": [
    "import numpy as np\n",
    "import scipy\n",
    "import matplotlib.pyplot as plt\n",
    "from scipy import signal\n",
    "\n",
    "#Laste inn fil i CSV-format til n-dimensjonalt NumPy-array\n",
    "#Eksempel: laste inn CSV-fil med rotasjonsrate-verdier fra Phyphox med 4 kolonner for t, omega_x, omega_y, omega_z\n",
    "fil=np.loadtxt('data_stol.csv',delimiter=',',skiprows=1)\n",
    "t=fil[:,0]\n",
    "omega_z=fil[:,3]\n",
    "omega_y=fil[:,2]\n",
    "omega_x=fil[:,1]\n",
    "\n",
    "#Glatting av funksjoner med Savgol-filter i scipy-bibliotek\n",
    "#Syntaks: filtrerte_data=signal.savgol_filter(raadata,window_length,polyorder)\n",
    "#Større \"window_length\" gir glattere kurve\n",
    "omega_z_filt=signal.savgol_filter(omega_z,301,3) #z-akse\n",
    "omega_y_filt=signal.savgol_filter(omega_y,301,3) #y-akse \n",
    "omega_x_filt=signal.savgol_filter(omega_x,301,3) #x-akse \n",
    "\n",
    "#Eulers metode for å lage theta(t) basert på vinkelfart\n",
    "#Algoritmen:\n",
    "#theta_(n+1)=theta_n + omega_z*dt\n",
    "\n",
    "\n",
    "n=len(t) #Lengde på array\n",
    "\n",
    "#Initierer tomme arrays\n",
    "theta=np.zeros(n)\n",
    "\n",
    "\n",
    "#Eulers metode for å finne theta(t)\n",
    "for i in range(0,n-1):\n",
    "           theta[i+1]=theta[i]+omega_z_filt[i]*(t[i+1]-t[i])\n",
    "\n",
    "\n",
    "#Genererer grafer for omega(t), theta(t)\n",
    "grafer=plt.subplot()\n",
    "plott1=plt.plot(t,omega_z_filt) #omega(t)\n",
    "plott2=plt.plot(t,theta) #theta(t)\n",
    "\n",
    "grafer.legend(['omega(t)','theta(t)'])\n",
    "\n"
   ]
  },
  {
   "cell_type": "code",
   "execution_count": 14,
   "id": "48bc43e9",
   "metadata": {},
   "outputs": [
    {
     "data": {
      "text/plain": [
       "-0.16956303511134568"
      ]
     },
     "execution_count": 14,
     "metadata": {},
     "output_type": "execute_result"
    }
   ],
   "source": [
    "scipy.integrate.simps(a_z_filt, t, even='avg')"
   ]
  },
  {
   "cell_type": "code",
   "execution_count": null,
   "id": "60ec3aee",
   "metadata": {},
   "outputs": [],
   "source": []
  }
 ],
 "metadata": {
  "kernelspec": {
   "display_name": "Python 3",
   "language": "python",
   "name": "python3"
  },
  "language_info": {
   "codemirror_mode": {
    "name": "ipython",
    "version": 3
   },
   "file_extension": ".py",
   "mimetype": "text/x-python",
   "name": "python",
   "nbconvert_exporter": "python",
   "pygments_lexer": "ipython3",
   "version": "3.8.5"
  }
 },
 "nbformat": 4,
 "nbformat_minor": 5
}
